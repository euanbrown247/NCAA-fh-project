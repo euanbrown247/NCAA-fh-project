{
 "cells": [
  {
   "cell_type": "code",
   "execution_count": 137,
   "id": "9acaaab4-51c8-4848-9d63-d25a8c861fac",
   "metadata": {},
   "outputs": [],
   "source": [
    "import datetime\n",
    "import pandas as pd\n",
    "from tqdm import tqdm\n",
    "import regex as re\n",
    "import pickle\n",
    "import numpy as np\n",
    "import matplotlib.pyplot as plt\n",
    "import seaborn as sns\n",
    "from datetime import datetime\n",
    "from matplotlib.lines import Line2D\n",
    "import warnings\n",
    "\n",
    "warnings.filterwarnings('ignore')\n",
    "from IPython.display import clear_output"
   ]
  },
  {
   "cell_type": "code",
   "execution_count": 138,
   "id": "O8g8-4Bu7IpK",
   "metadata": {
    "id": "O8g8-4Bu7IpK"
   },
   "outputs": [],
   "source": [
    "with open('/Users/euan_brown/Documents/GitHub/NCAA-fh-project/results.pkl', 'rb') as f:\n",
    "    df = pickle.load(f)"
   ]
  },
  {
   "cell_type": "code",
   "execution_count": 139,
   "id": "TXRbhq6kIudj",
   "metadata": {
    "id": "TXRbhq6kIudj"
   },
   "outputs": [],
   "source": [
    "# get home team and away team names\n",
    "\n",
    "df['home']= df.df_sum.apply(lambda x: x[0][1][:x[0][1].find('(') - 1])\n",
    "df['away']= df.df_sum.apply(lambda x: x[0][2][:x[0][2].find('(') - 1])\n",
    "\n",
    "def clean_team_name(team_name):\n",
    "    cleaned_name = re.sub(r'^#\\d+\\s*', '', team_name)\n",
    "    return cleaned_name.strip()\n",
    "\n",
    "df['home'] = df['home'].apply(clean_team_name)\n",
    "df['away'] = df['away'].apply(clean_team_name)"
   ]
  },
  {
   "cell_type": "code",
   "execution_count": 140,
   "id": "Dr21pr-AOl3y",
   "metadata": {
    "id": "Dr21pr-AOl3y"
   },
   "outputs": [],
   "source": [
    "# add column names to box scores\n",
    "\n",
    "# list names\n",
    "box_cols = ['name','pos','goals','ast','shatt',\n",
    "            'sog','fouls','rc','yc','gc',\n",
    "            'ggp','ggs','min','ga','sv',\n",
    "            'sho','g_wins','g_loss','dsv',\n",
    "            'corners','ps','psa'\n",
    "            ]\n",
    "\n",
    "# construct dict\n",
    "cols = dict(zip(range(0,20),box_cols))\n",
    "\n",
    "# lambda apply\n",
    "df.df_home = df.df_home.apply(lambda x: x.rename(columns=cols))\n",
    "df.df_away = df.df_away.apply(lambda x: x.rename(columns=cols))"
   ]
  },
  {
   "cell_type": "code",
   "execution_count": 141,
   "id": "3qkKOUorDWzM",
   "metadata": {
    "id": "3qkKOUorDWzM"
   },
   "outputs": [],
   "source": [
    "# restructure pbp to df and add column names\n",
    "\n",
    "pbp_cols = ['time','home_events','score','away_events']\n",
    "\n",
    "df.pbp = df.pbp.apply(lambda x: pd.DataFrame(x,columns=pbp_cols))"
   ]
  },
  {
   "cell_type": "code",
   "execution_count": 142,
   "id": "EvS-t6l-IM7B",
   "metadata": {
    "id": "EvS-t6l-IM7B"
   },
   "outputs": [],
   "source": [
    "all_players = []\n",
    "\n",
    "for row in df.iterrows():\n",
    "  all_players += row[1][2]['name'].values.tolist()\n",
    "  all_players += row[1][3]['name'].values.tolist()\n",
    "\n",
    "unique_players = set(all_players)\n",
    "\n",
    "player_keys = dict(zip(unique_players,range(0,len(unique_players))))"
   ]
  },
  {
   "cell_type": "code",
   "execution_count": 143,
   "id": "suJDa1x2DyfJ",
   "metadata": {
    "id": "suJDa1x2DyfJ"
   },
   "outputs": [],
   "source": [
    "all_teams = []\n",
    "\n",
    "all_teams += df.home.values.tolist()\n",
    "all_teams += df.away.values.tolist()\n",
    "\n",
    "unique_teams = set(all_teams)\n",
    "team_keys = dict(zip(unique_teams,range(0,len(unique_teams))))"
   ]
  },
  {
   "cell_type": "code",
   "execution_count": 144,
   "id": "Sv8fD2ehtj7c",
   "metadata": {
    "id": "Sv8fD2ehtj7c"
   },
   "outputs": [],
   "source": [
    "df = df.drop('df_sum',axis=1)"
   ]
  },
  {
   "cell_type": "code",
   "execution_count": 145,
   "id": "6l-jdrmguI_t",
   "metadata": {
    "id": "6l-jdrmguI_t"
   },
   "outputs": [],
   "source": [
    "rosters = {}\n",
    "\n",
    "for team in unique_teams:\n",
    "\n",
    "  teamdf = df[df['home']==team]\n",
    "\n",
    "  all_players = []\n",
    "\n",
    "  for row in teamdf.iterrows():\n",
    "\n",
    "    all_players += row[1][1]['name'].values.tolist()\n",
    "\n",
    "  unique_players = set(all_players)\n",
    "\n",
    "\n",
    "  teamdf = df[df['away']==team]\n",
    "\n",
    "  all_players = []\n",
    "\n",
    "  for row in teamdf.iterrows():\n",
    "    all_players += row[1][2]['name'].values.tolist()\n",
    "\n",
    "\n",
    "  all_players = set(all_players)\n",
    "\n",
    "  rosters.update({team:all_players})\n",
    "\n",
    "rosters\n",
    "\n",
    "roster_data = []\n",
    "for key, values in rosters.items():\n",
    "    for value in values:\n",
    "        roster_data.append({'team_name': key, 'player_name': value})\n",
    "\n",
    "player_table = pd.DataFrame(roster_data)"
   ]
  },
  {
   "cell_type": "code",
   "execution_count": 146,
   "id": "qsob7ac3OjdU",
   "metadata": {
    "id": "qsob7ac3OjdU"
   },
   "outputs": [],
   "source": [
    "player_table['player_ID'] = player_table['player_name'].map(player_keys)\n",
    "player_table['team_ID'] = player_table['team_name'].map(team_keys)"
   ]
  },
  {
   "cell_type": "code",
   "execution_count": 147,
   "id": "10bacb5d-4b69-4f98-a94b-c3fe93c2c114",
   "metadata": {},
   "outputs": [
    {
     "data": {
      "text/html": [
       "<div>\n",
       "<style scoped>\n",
       "    .dataframe tbody tr th:only-of-type {\n",
       "        vertical-align: middle;\n",
       "    }\n",
       "\n",
       "    .dataframe tbody tr th {\n",
       "        vertical-align: top;\n",
       "    }\n",
       "\n",
       "    .dataframe thead th {\n",
       "        text-align: right;\n",
       "    }\n",
       "</style>\n",
       "<table border=\"1\" class=\"dataframe\">\n",
       "  <thead>\n",
       "    <tr style=\"text-align: right;\">\n",
       "      <th></th>\n",
       "      <th>url</th>\n",
       "      <th>df_home</th>\n",
       "      <th>df_away</th>\n",
       "      <th>pbp</th>\n",
       "      <th>date</th>\n",
       "      <th>home</th>\n",
       "      <th>away</th>\n",
       "    </tr>\n",
       "  </thead>\n",
       "  <tbody>\n",
       "    <tr>\n",
       "      <th>0</th>\n",
       "      <td>http://stats.ncaa.org/game/play_by_play/5311197</td>\n",
       "      <td>name  pos goals ast shatt...</td>\n",
       "      <td>name  pos goals ast shat...</td>\n",
       "      <td>time                                     ...</td>\n",
       "      <td>08/26/2022</td>\n",
       "      <td>Kent St.</td>\n",
       "      <td>Indiana</td>\n",
       "    </tr>\n",
       "    <tr>\n",
       "      <th>1</th>\n",
       "      <td>http://stats.ncaa.org/game/play_by_play/5294327</td>\n",
       "      <td>name pos goals ast shatt ...</td>\n",
       "      <td>name pos goals ast sha...</td>\n",
       "      <td>time                                    ...</td>\n",
       "      <td>08/26/2022</td>\n",
       "      <td>Drexel</td>\n",
       "      <td>Maryland</td>\n",
       "    </tr>\n",
       "    <tr>\n",
       "      <th>2</th>\n",
       "      <td>http://stats.ncaa.org/game/play_by_play/5296174</td>\n",
       "      <td>name pos goals a...</td>\n",
       "      <td>name pos goals ast shatt so...</td>\n",
       "      <td>time                                    ...</td>\n",
       "      <td>08/26/2022</td>\n",
       "      <td>American</td>\n",
       "      <td>Michigan St.</td>\n",
       "    </tr>\n",
       "    <tr>\n",
       "      <th>3</th>\n",
       "      <td>http://stats.ncaa.org/game/play_by_play/5295975</td>\n",
       "      <td>name pos goals ast shatt sog fo...</td>\n",
       "      <td>name pos goals ast shatt so...</td>\n",
       "      <td>time                                     ...</td>\n",
       "      <td>08/26/2022</td>\n",
       "      <td>Iowa</td>\n",
       "      <td>Wake Forest</td>\n",
       "    </tr>\n",
       "    <tr>\n",
       "      <th>4</th>\n",
       "      <td>http://stats.ncaa.org/game/play_by_play/5294476</td>\n",
       "      <td>name pos goals ast shatt s...</td>\n",
       "      <td>name pos goals ast shatt so...</td>\n",
       "      <td>time                                     ...</td>\n",
       "      <td>08/26/2022</td>\n",
       "      <td>Fairfield</td>\n",
       "      <td>Monmouth</td>\n",
       "    </tr>\n",
       "  </tbody>\n",
       "</table>\n",
       "</div>"
      ],
      "text/plain": [
       "                                               url   \n",
       "0  http://stats.ncaa.org/game/play_by_play/5311197  \\\n",
       "1  http://stats.ncaa.org/game/play_by_play/5294327   \n",
       "2  http://stats.ncaa.org/game/play_by_play/5296174   \n",
       "3  http://stats.ncaa.org/game/play_by_play/5295975   \n",
       "4  http://stats.ncaa.org/game/play_by_play/5294476   \n",
       "\n",
       "                                             df_home   \n",
       "0                       name  pos goals ast shatt...  \\\n",
       "1                       name pos goals ast shatt ...   \n",
       "2                                name pos goals a...   \n",
       "3                 name pos goals ast shatt sog fo...   \n",
       "4                      name pos goals ast shatt s...   \n",
       "\n",
       "                                             df_away   \n",
       "0                        name  pos goals ast shat...  \\\n",
       "1                          name pos goals ast sha...   \n",
       "2                     name pos goals ast shatt so...   \n",
       "3                     name pos goals ast shatt so...   \n",
       "4                     name pos goals ast shatt so...   \n",
       "\n",
       "                                                 pbp        date       home   \n",
       "0       time                                     ...  08/26/2022   Kent St.  \\\n",
       "1        time                                    ...  08/26/2022     Drexel   \n",
       "2        time                                    ...  08/26/2022   American   \n",
       "3       time                                     ...  08/26/2022       Iowa   \n",
       "4       time                                     ...  08/26/2022  Fairfield   \n",
       "\n",
       "           away  \n",
       "0       Indiana  \n",
       "1      Maryland  \n",
       "2  Michigan St.  \n",
       "3   Wake Forest  \n",
       "4      Monmouth  "
      ]
     },
     "execution_count": 147,
     "metadata": {},
     "output_type": "execute_result"
    }
   ],
   "source": [
    "df.head()"
   ]
  },
  {
   "cell_type": "code",
   "execution_count": 148,
   "id": "i5X4zEvMRZTc",
   "metadata": {
    "id": "i5X4zEvMRZTc"
   },
   "outputs": [
    {
     "name": "stderr",
     "output_type": "stream",
     "text": [
      "773it [00:01, 453.53it/s]\n",
      "773it [00:03, 244.65it/s]\n"
     ]
    }
   ],
   "source": [
    "box_table = pd.DataFrame()\n",
    "\n",
    "for i,row in tqdm(enumerate(df.iterrows())):\n",
    "  temp_df = pd.DataFrame()\n",
    "  temp_df = row[1][1]\n",
    "  temp_df['date'] = datetime.strptime(row[1][4], \"%m/%d/%Y\")\n",
    "  temp_df['team_name'] = row[1][5]\n",
    "  temp_df['opposition_name'] = row[1][6]\n",
    "  temp_df['team_ID'] = team_keys[row[1][5]]\n",
    "  temp_df['opposition_ID'] = team_keys[row[1][6]]\n",
    "  temp_df['player_ID'] = row[1][1]['name'].map(player_keys)\n",
    "  temp_df['game_ID'] = i\n",
    "  temp_df = temp_df.rename(columns = {'name':'player_name'})\n",
    "  box_table = pd.concat([box_table,temp_df])\n",
    "\n",
    "for i,row in tqdm(enumerate(df.iterrows())):\n",
    "  temp_df = pd.DataFrame()\n",
    "  temp_df = row[1][2]\n",
    "  temp_df['date'] = datetime.strptime(row[1][4], \"%m/%d/%Y\")\n",
    "  temp_df['team_name'] = row[1][5]\n",
    "  temp_df['opposition_name'] = row[1][6]\n",
    "  temp_df['team_ID'] = team_keys[row[1][5]]\n",
    "  temp_df['opposition_ID'] = team_keys[row[1][6]]\n",
    "  temp_df['player_ID'] = row[1][2]['name'].map(player_keys)\n",
    "  temp_df['game_ID'] = i\n",
    "  temp_df = temp_df.rename(columns = {'name':'player_name'})\n",
    "  box_table = pd.concat([box_table,temp_df])\n",
    "\n",
    "box_table = box_table.drop([20,21],axis=1)"
   ]
  },
  {
   "cell_type": "code",
   "execution_count": 149,
   "id": "ylsuOJGbY0VJ",
   "metadata": {
    "id": "ylsuOJGbY0VJ"
   },
   "outputs": [],
   "source": [
    "for col in box_table.loc[:,'goals':'ggs']:\n",
    "    # Remove forward slash and convert string to float\n",
    "    box_table[col] = box_table[col].str.replace('/', '').replace('', np.NaN).astype(float)\n",
    "\n",
    "for col in box_table.loc[:,'ga':'dsv']:\n",
    "    # Remove forward slash and convert string to float\n",
    "    box_table[col] = box_table[col].str.replace('/', '').replace('', np.NaN).astype(float)"
   ]
  },
  {
   "cell_type": "code",
   "execution_count": 150,
   "id": "Ww6BnBNJbS5A",
   "metadata": {
    "colab": {
     "base_uri": "https://localhost:8080/"
    },
    "id": "Ww6BnBNJbS5A",
    "outputId": "59f5c703-9fef-44de-f5f2-5943c2704adf"
   },
   "outputs": [
    {
     "name": "stderr",
     "output_type": "stream",
     "text": [
      "773it [00:02, 300.87it/s] \n"
     ]
    }
   ],
   "source": [
    "pbp_table = pd.DataFrame()\n",
    "\n",
    "for i,row in tqdm(enumerate(df.iterrows())):\n",
    "  temp_df = pd.DataFrame()\n",
    "  temp_df = row[1][3]\n",
    "  temp_df['home_team_name'] = row[1][5]\n",
    "  temp_df['home_team_ID'] = team_keys[row[1][5]]\n",
    "  temp_df['away_team_name'] = row[1][6]\n",
    "  temp_df['away_team_ID'] = team_keys[row[1][6]]\n",
    "\n",
    "  temp_df['game_ID'] = i\n",
    "  temp_df['date'] =   temp_df['date'] = datetime.strptime(row[1][4], \"%m/%d/%Y\")\n",
    "  pbp_table = pd.concat([pbp_table,temp_df])"
   ]
  },
  {
   "cell_type": "code",
   "execution_count": 151,
   "id": "LFg959ijb3tz",
   "metadata": {
    "id": "LFg959ijb3tz"
   },
   "outputs": [],
   "source": [
    "pbp_table['home_score'] = pbp_table.score.str[2]\n",
    "pbp_table['away_score'] = pbp_table.score.str[0]\n",
    "pbp_table = pbp_table.drop('score',axis = 1)"
   ]
  },
  {
   "cell_type": "code",
   "execution_count": 152,
   "id": "34uvdG57Si3D",
   "metadata": {
    "id": "34uvdG57Si3D"
   },
   "outputs": [],
   "source": [
    "pbp_table['events'] = np.where(pbp_table['home_events'] == \"\",pbp_table['away_events'],pbp_table['home_events'])\n",
    "pbp_table['event_team'] = np.where(pbp_table['home_events'] == \"\",'away','home')\n",
    "\n",
    "pbp_table = pbp_table.drop(['home_events','away_events'],axis=1)"
   ]
  },
  {
   "cell_type": "code",
   "execution_count": 153,
   "id": "0miVjjTJdJaS",
   "metadata": {
    "id": "0miVjjTJdJaS"
   },
   "outputs": [],
   "source": [
    "pbp_table['cat_event'] = np.where(pbp_table['events'].str.contains('GOAL'),'goal',\n",
    "                                    np.where(pbp_table['events'].str.contains('Shot'),'shot',\n",
    "                                      np.where(pbp_table['events'].str.contains('Foul'),'Foul_against',\n",
    "                                        np.where(pbp_table['events'].str.contains('Penalty'),'corner',\n",
    "                                          np.where(pbp_table['events'].str.contains('EMPTY'),'empty_net',\n",
    "                                            np.where(pbp_table['events'].str.contains('STROKE'),'stroke_for',None))))))"
   ]
  },
  {
   "cell_type": "code",
   "execution_count": 154,
   "id": "x-ml4MwNqe2x",
   "metadata": {
    "id": "x-ml4MwNqe2x"
   },
   "outputs": [],
   "source": [
    "pbp_table['shot_outcome'] = np.where(pbp_table['events'].str.contains('GOAL'),'goal',\n",
    "                                    np.where((pbp_table['events'].str.contains('Shot')) & (pbp_table['events'].str.contains('WIDE')),'wide',\n",
    "                                      np.where((pbp_table['events'].str.contains('Shot')) & (pbp_table['events'].str.contains('SAVE')),'save',\n",
    "                                        np.where((pbp_table['events'].str.contains('Shot')) & (pbp_table['events'].str.contains('BLOCKED')),'blocked',\n",
    "                                          np.where((pbp_table['events'].str.contains('Shot')) & (pbp_table['events'].str.contains('HIGH')),'wide',\n",
    "                                            np.where((pbp_table['events'].str.contains('Shot')) & (pbp_table['events'].str.contains('Save')),'save',None))))))"
   ]
  },
  {
   "cell_type": "code",
   "execution_count": 155,
   "id": "oXzkaHeYnpEG",
   "metadata": {
    "id": "oXzkaHeYnpEG"
   },
   "outputs": [],
   "source": [
    "pbp_table.time = pbp_table.time.replace('', np.NaN)\n",
    "pbp_table.time = np.where(~pbp_table.time.isnull(), pbp_table.time.apply(lambda x: f'00:{x}'), pbp_table.time)\n",
    "pbp_table.time = pd.to_timedelta(pbp_table.time)\n",
    "pbp_table['time'] = pbp_table['time'].apply(lambda x: x.total_seconds() / 60)"
   ]
  },
  {
   "cell_type": "code",
   "execution_count": 156,
   "id": "gnm2b2Ze2ypA",
   "metadata": {
    "id": "gnm2b2Ze2ypA"
   },
   "outputs": [],
   "source": [
    "ID = df.index.values.tolist() + df.index.values.tolist()\n",
    "dates = df.date.tolist() + df.date.tolist()\n",
    "team1 = df.home.tolist() + df.away.tolist()\n",
    "team2 = df.away.tolist() + df.home.tolist()\n",
    "\n",
    "schedule_lst = {'game_ID':ID,'date':dates,'team_name':team1,'opposition':team2}\n",
    "\n",
    "schedule_lst\n",
    "\n",
    "schedule_table = pd.DataFrame(schedule_lst)"
   ]
  },
  {
   "cell_type": "code",
   "execution_count": 157,
   "id": "e1b58745-d3fa-4828-a8da-7f29bf62a583",
   "metadata": {},
   "outputs": [],
   "source": [
    "### save all tables to pkl\n",
    "export = [schedule_table,pbp_table,box_table,player_table]\n",
    "\n",
    "with open('/Users/euan_brown/Documents/GitHub/NCAA-fh-project/tables.pkl', 'wb') as f:\n",
    "    pickle.dump(export, f)"
   ]
  }
 ],
 "metadata": {
  "kernelspec": {
   "display_name": "Python 3 (ipykernel)",
   "language": "python",
   "name": "python3"
  },
  "language_info": {
   "codemirror_mode": {
    "name": "ipython",
    "version": 3
   },
   "file_extension": ".py",
   "mimetype": "text/x-python",
   "name": "python",
   "nbconvert_exporter": "python",
   "pygments_lexer": "ipython3",
   "version": "3.10.11"
  }
 },
 "nbformat": 4,
 "nbformat_minor": 5
}
