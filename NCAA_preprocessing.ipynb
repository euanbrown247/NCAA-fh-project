{
 "cells": [
  {
   "cell_type": "code",
   "execution_count": 1,
   "id": "9acaaab4-51c8-4848-9d63-d25a8c861fac",
   "metadata": {},
   "outputs": [],
   "source": [
    "import requests\n",
    "from bs4 import BeautifulSoup\n",
    "import datetime\n",
    "import pandas as pd\n",
    "from tqdm import tqdm\n",
    "import regex as re\n",
    "import pickle\n",
    "import numpy as np\n",
    "import matplotlib.pyplot as plt\n",
    "import seaborn as sns\n",
    "\n",
    "\n",
    "from matplotlib.lines import Line2D\n",
    "\n",
    "import warnings\n",
    "warnings.filterwarnings('ignore')\n",
    "from IPython.display import clear_output"
   ]
  },
  {
   "cell_type": "code",
   "execution_count": 2,
   "id": "O8g8-4Bu7IpK",
   "metadata": {
    "id": "O8g8-4Bu7IpK"
   },
   "outputs": [],
   "source": [
    "with open('/Users/euan_brown/Documents/GitHub/NCAA-fh-project/results.pkl', 'rb') as f:\n",
    "    df = pickle.load(f)"
   ]
  },
  {
   "cell_type": "code",
   "execution_count": 3,
   "id": "TXRbhq6kIudj",
   "metadata": {
    "id": "TXRbhq6kIudj"
   },
   "outputs": [],
   "source": [
    "# get home team and away team names\n",
    "\n",
    "df['home']= df.df_sum.apply(lambda x: x[0][1][:x[0][1].find('(') - 1])\n",
    "df['away']= df.df_sum.apply(lambda x: x[0][2][:x[0][2].find('(') - 1])\n",
    "\n",
    "def clean_team_name(team_name):\n",
    "    cleaned_name = re.sub(r'^#\\d+\\s*', '', team_name)\n",
    "    return cleaned_name.strip()\n",
    "\n",
    "df['home'] = df['home'].apply(clean_team_name)\n",
    "df['away'] = df['away'].apply(clean_team_name)"
   ]
  },
  {
   "cell_type": "code",
   "execution_count": 4,
   "id": "Dr21pr-AOl3y",
   "metadata": {
    "id": "Dr21pr-AOl3y"
   },
   "outputs": [],
   "source": [
    "# add column names to box scores\n",
    "\n",
    "# list names\n",
    "box_cols = ['name','pos','goals','ast','shatt',\n",
    "            'sog','fouls','rc','yc','gc',\n",
    "            'ggp','ggs','min','ga','sv',\n",
    "            'sho','g_wins','g_loss','dsv',\n",
    "            'corners','ps','psa'\n",
    "            ]\n",
    "\n",
    "# construct dict\n",
    "cols = dict(zip(range(0,20),box_cols))\n",
    "\n",
    "# lambda apply\n",
    "df.df_home = df.df_home.apply(lambda x: x.rename(columns=cols))\n",
    "df.df_away = df.df_away.apply(lambda x: x.rename(columns=cols))"
   ]
  },
  {
   "cell_type": "code",
   "execution_count": 5,
   "id": "3qkKOUorDWzM",
   "metadata": {
    "id": "3qkKOUorDWzM"
   },
   "outputs": [],
   "source": [
    "# restructure pbp to df and add column names\n",
    "\n",
    "pbp_cols = ['time','home_events','score','away_events']\n",
    "\n",
    "df.pbp = df.pbp.apply(lambda x: pd.DataFrame(x,columns=pbp_cols))"
   ]
  },
  {
   "cell_type": "code",
   "execution_count": 6,
   "id": "EvS-t6l-IM7B",
   "metadata": {
    "id": "EvS-t6l-IM7B"
   },
   "outputs": [],
   "source": [
    "all_players = []\n",
    "\n",
    "for row in df.iterrows():\n",
    "  all_players += row[1][2]['name'].values.tolist()\n",
    "  all_players += row[1][3]['name'].values.tolist()\n",
    "\n",
    "unique_players = set(all_players)\n",
    "\n",
    "player_keys = dict(zip(unique_players,range(0,len(unique_players))))"
   ]
  },
  {
   "cell_type": "code",
   "execution_count": 7,
   "id": "suJDa1x2DyfJ",
   "metadata": {
    "id": "suJDa1x2DyfJ"
   },
   "outputs": [],
   "source": [
    "all_teams = []\n",
    "\n",
    "all_teams += df.home.values.tolist()\n",
    "all_teams += df.away.values.tolist()\n",
    "\n",
    "unique_teams = set(all_teams)\n",
    "team_keys = dict(zip(unique_teams,range(0,len(unique_teams))))"
   ]
  },
  {
   "cell_type": "code",
   "execution_count": 8,
   "id": "Sv8fD2ehtj7c",
   "metadata": {
    "id": "Sv8fD2ehtj7c"
   },
   "outputs": [],
   "source": [
    "df = df.drop('df_sum',axis=1)"
   ]
  },
  {
   "cell_type": "code",
   "execution_count": 9,
   "id": "6l-jdrmguI_t",
   "metadata": {
    "id": "6l-jdrmguI_t"
   },
   "outputs": [],
   "source": [
    "rosters = {}\n",
    "\n",
    "for team in unique_teams:\n",
    "\n",
    "  teamdf = df[df['home']==team]\n",
    "\n",
    "  all_players = []\n",
    "\n",
    "  for row in teamdf.iterrows():\n",
    "\n",
    "    all_players += row[1][1]['name'].values.tolist()\n",
    "\n",
    "  unique_players = set(all_players)\n",
    "\n",
    "\n",
    "  teamdf = df[df['away']==team]\n",
    "\n",
    "  all_players = []\n",
    "\n",
    "  for row in teamdf.iterrows():\n",
    "    all_players += row[1][2]['name'].values.tolist()\n",
    "\n",
    "\n",
    "  all_players = set(all_players)\n",
    "\n",
    "  rosters.update({team:all_players})\n",
    "\n",
    "rosters\n",
    "\n",
    "roster_data = []\n",
    "for key, values in rosters.items():\n",
    "    for value in values:\n",
    "        roster_data.append({'team_name': key, 'player_name': value})\n",
    "\n",
    "player_table = pd.DataFrame(roster_data)"
   ]
  },
  {
   "cell_type": "code",
   "execution_count": 10,
   "id": "qsob7ac3OjdU",
   "metadata": {
    "id": "qsob7ac3OjdU"
   },
   "outputs": [],
   "source": [
    "player_table['player_ID'] = player_table['player_name'].map(player_keys)\n",
    "player_table['team_ID'] = player_table['team_name'].map(team_keys)"
   ]
  },
  {
   "cell_type": "code",
   "execution_count": 11,
   "id": "i5X4zEvMRZTc",
   "metadata": {
    "id": "i5X4zEvMRZTc"
   },
   "outputs": [],
   "source": [
    "box_table = pd.DataFrame()\n",
    "\n",
    "for i,row in enumerate(df.iterrows()):\n",
    "  temp_df = pd.DataFrame()\n",
    "  temp_df = row[1][1]\n",
    "  temp_df['team_name'] = row[1][4]\n",
    "  temp_df['opposition_name'] = row[1][5]\n",
    "  temp_df['team_ID'] = team_keys[row[1][4]]\n",
    "  temp_df['opposition_ID'] = team_keys[row[1][5]]\n",
    "  temp_df['player_ID'] = row[1][1]['name'].map(player_keys)\n",
    "  temp_df['game_ID'] = i\n",
    "  temp_df = temp_df.rename(columns = {'name':'player_name'})\n",
    "  box_table = pd.concat([box_table,temp_df])\n",
    "\n",
    "for i,row in enumerate(df.iterrows()):\n",
    "  temp_df = pd.DataFrame()\n",
    "  temp_df = row[1][2]\n",
    "  temp_df['team_name'] = row[1][5]\n",
    "  temp_df['opposition_name'] = row[1][4]\n",
    "  temp_df['team_ID'] = team_keys[row[1][5]]\n",
    "  temp_df['opposition_ID'] = team_keys[row[1][4]]\n",
    "  temp_df['player_ID'] = row[1][2]['name'].map(player_keys)\n",
    "  temp_df['game_ID'] = i\n",
    "  temp_df = temp_df.rename(columns = {'name':'player_name'})\n",
    "  box_table = pd.concat([box_table,temp_df])\n",
    "\n",
    "box_table = box_table.drop([20,21],axis=1)"
   ]
  },
  {
   "cell_type": "code",
   "execution_count": 12,
   "id": "ylsuOJGbY0VJ",
   "metadata": {
    "id": "ylsuOJGbY0VJ"
   },
   "outputs": [],
   "source": [
    "for col in box_table.loc[:,'goals':'ggs']:\n",
    "    # Remove forward slash and convert string to float\n",
    "    box_table[col] = box_table[col].str.replace('/', '').replace('', np.NaN).astype(float)\n",
    "\n",
    "for col in box_table.loc[:,'ga':'dsv']:\n",
    "    # Remove forward slash and convert string to float\n",
    "    box_table[col] = box_table[col].str.replace('/', '').replace('', np.NaN).astype(float)"
   ]
  },
  {
   "cell_type": "code",
   "execution_count": 13,
   "id": "Ww6BnBNJbS5A",
   "metadata": {
    "colab": {
     "base_uri": "https://localhost:8080/"
    },
    "id": "Ww6BnBNJbS5A",
    "outputId": "59f5c703-9fef-44de-f5f2-5943c2704adf"
   },
   "outputs": [
    {
     "name": "stderr",
     "output_type": "stream",
     "text": [
      "773it [00:02, 356.29it/s] \n"
     ]
    }
   ],
   "source": [
    "pbp_table = pd.DataFrame()\n",
    "\n",
    "for i,row in tqdm(enumerate(df.iterrows())):\n",
    "  temp_df = pd.DataFrame()\n",
    "  temp_df = row[1][3]\n",
    "  temp_df['home_team_name'] = row[1][4]\n",
    "  temp_df['home_team_ID'] = team_keys[row[1][4]]\n",
    "  temp_df['away_team_name'] = row[1][5]\n",
    "  temp_df['away_team_ID'] = team_keys[row[1][5]]\n",
    "\n",
    "  temp_df['game_ID'] = i\n",
    "  pbp_table = pd.concat([pbp_table,temp_df])"
   ]
  },
  {
   "cell_type": "code",
   "execution_count": 14,
   "id": "LFg959ijb3tz",
   "metadata": {
    "id": "LFg959ijb3tz"
   },
   "outputs": [],
   "source": [
    "pbp_table['home_score'] = pbp_table.score.str[2]\n",
    "pbp_table['away_score'] = pbp_table.score.str[0]\n",
    "pbp_table = pbp_table.drop('score',axis = 1)"
   ]
  },
  {
   "cell_type": "code",
   "execution_count": 15,
   "id": "34uvdG57Si3D",
   "metadata": {
    "id": "34uvdG57Si3D"
   },
   "outputs": [],
   "source": [
    "pbp_table['events'] = np.where(pbp_table['home_events'] == \"\",pbp_table['away_events'],pbp_table['home_events'])\n",
    "pbp_table['event_team'] = np.where(pbp_table['home_events'] == \"\",'away','home')\n",
    "\n",
    "pbp_table = pbp_table.drop(['home_events','away_events'],axis=1)"
   ]
  },
  {
   "cell_type": "code",
   "execution_count": 16,
   "id": "0miVjjTJdJaS",
   "metadata": {
    "id": "0miVjjTJdJaS"
   },
   "outputs": [],
   "source": [
    "pbp_table['cat_event'] = np.where(pbp_table['events'].str.contains('GOAL'),'goal',\n",
    "                                    np.where(pbp_table['events'].str.contains('Shot'),'shot',\n",
    "                                      np.where(pbp_table['events'].str.contains('Foul'),'Foul_against',\n",
    "                                        np.where(pbp_table['events'].str.contains('Penalty'),'corner',\n",
    "                                          np.where(pbp_table['events'].str.contains('EMPTY'),'empty_net',\n",
    "                                            np.where(pbp_table['events'].str.contains('STROKE'),'stroke_for',None))))))"
   ]
  },
  {
   "cell_type": "code",
   "execution_count": 17,
   "id": "x-ml4MwNqe2x",
   "metadata": {
    "id": "x-ml4MwNqe2x"
   },
   "outputs": [],
   "source": [
    "pbp_table['shot_outcome'] = np.where(pbp_table['events'].str.contains('GOAL'),'goal',\n",
    "                                    np.where((pbp_table['events'].str.contains('Shot')) & (pbp_table['events'].str.contains('WIDE')),'wide',\n",
    "                                      np.where((pbp_table['events'].str.contains('Shot')) & (pbp_table['events'].str.contains('SAVE')),'save',\n",
    "                                        np.where((pbp_table['events'].str.contains('Shot')) & (pbp_table['events'].str.contains('BLOCKED')),'blocked',\n",
    "                                          np.where((pbp_table['events'].str.contains('Shot')) & (pbp_table['events'].str.contains('HIGH')),'wide',\n",
    "                                            np.where((pbp_table['events'].str.contains('Shot')) & (pbp_table['events'].str.contains('Save')),'save',None))))))"
   ]
  },
  {
   "cell_type": "code",
   "execution_count": 18,
   "id": "oXzkaHeYnpEG",
   "metadata": {
    "id": "oXzkaHeYnpEG"
   },
   "outputs": [],
   "source": [
    "pbp_table.time = pbp_table.time.replace('', np.NaN)\n",
    "pbp_table.time = np.where(~pbp_table.time.isnull(), pbp_table.time.apply(lambda x: f'00:{x}'), pbp_table.time)\n",
    "pbp_table.time = pd.to_timedelta(pbp_table.time)\n",
    "pbp_table['time'] = pbp_table['time'].apply(lambda x: x.total_seconds() / 60)"
   ]
  },
  {
   "cell_type": "code",
   "execution_count": 19,
   "id": "gnm2b2Ze2ypA",
   "metadata": {
    "id": "gnm2b2Ze2ypA"
   },
   "outputs": [],
   "source": [
    "schedule_lst = []\n",
    "n = 0\n",
    "for team in unique_teams:\n",
    "  \n",
    "  lst = df[df.home == team]['away'].tolist()\n",
    "\n",
    "  lst += df[df.away == team]['home'].tolist()\n",
    "\n",
    "  for i in lst:\n",
    "    constructor = [team,i,n]\n",
    "    schedule_lst.append(constructor)\n",
    "    n+=1\n",
    "schedule_table = pd.DataFrame(schedule_lst,columns=['team_name','opposition','game_ID'])"
   ]
  },
  {
   "cell_type": "code",
   "execution_count": 22,
   "id": "e1b58745-d3fa-4828-a8da-7f29bf62a583",
   "metadata": {},
   "outputs": [],
   "source": [
    "### save all tables to pkl\n",
    "export = [schedule_table,pbp_table,box_table,player_table]\n",
    "\n",
    "with open('/Users/euan_brown/Documents/GitHub/NCAA-fh-project/tables.pkl', 'wb') as f:\n",
    "    pickle.dump(export, f)"
   ]
  },
  {
   "cell_type": "code",
   "execution_count": null,
   "id": "7673232d-b400-45e5-b455-35c78edb17ec",
   "metadata": {},
   "outputs": [],
   "source": []
  }
 ],
 "metadata": {
  "kernelspec": {
   "display_name": "Python 3 (ipykernel)",
   "language": "python",
   "name": "python3"
  },
  "language_info": {
   "codemirror_mode": {
    "name": "ipython",
    "version": 3
   },
   "file_extension": ".py",
   "mimetype": "text/x-python",
   "name": "python",
   "nbconvert_exporter": "python",
   "pygments_lexer": "ipython3",
   "version": "3.10.11"
  }
 },
 "nbformat": 4,
 "nbformat_minor": 5
}
